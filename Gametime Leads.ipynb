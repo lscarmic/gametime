{
 "cells": [
  {
   "cell_type": "markdown",
   "metadata": {},
   "source": [
    "\n",
    "<img src=\"mc.png\" style=\"float: left;\" width=\"300\"/>"
   ]
  },
  {
   "cell_type": "markdown",
   "metadata": {},
   "source": [
    "# A Notebook for Processing GameTime Facebook Leads"
   ]
  },
  {
   "cell_type": "markdown",
   "metadata": {},
   "source": [
    "You can use this page to lookup city and state info for GameTime leads. "
   ]
  },
  {
   "cell_type": "code",
   "execution_count": 1,
   "metadata": {},
   "outputs": [],
   "source": [
    "import pandas as pd\n",
    "from uszipcode import SearchEngine"
   ]
  },
  {
   "cell_type": "markdown",
   "metadata": {},
   "source": [
    "This is where you need to specify the name of the .csv file with the leads. I noticed that the Google sheet has pictures and some other weird stuff floating around. You'd want to delete that stuff after you download it. \n",
    "\n",
    "It's also possible to just pull the table right from your Google Drive, but there are some hoops to jump through. If you actually end up using any of these, we'll streamline later."
   ]
  },
  {
   "cell_type": "code",
   "execution_count": 2,
   "metadata": {},
   "outputs": [],
   "source": [
    "df = pd.read_csv('GameTime.csv')"
   ]
  },
  {
   "cell_type": "markdown",
   "metadata": {},
   "source": [
    "See the file was read correctly by looking at `df`. `df` will show the entire table. `df.head()` will print the first five rows."
   ]
  },
  {
   "cell_type": "code",
   "execution_count": 3,
   "metadata": {},
   "outputs": [],
   "source": [
    "# df.head()"
   ]
  },
  {
   "cell_type": "markdown",
   "metadata": {},
   "source": [
    "If it all looks good, let's keep going!"
   ]
  },
  {
   "cell_type": "markdown",
   "metadata": {},
   "source": [
    "### Initial Cleanup\n",
    "\n",
    "The original sheet is full of junk. Let's tidy up. We'll start by removing columns we don't need."
   ]
  },
  {
   "cell_type": "code",
   "execution_count": 4,
   "metadata": {},
   "outputs": [
    {
     "data": {
      "text/html": [
       "<div>\n",
       "<style scoped>\n",
       "    .dataframe tbody tr th:only-of-type {\n",
       "        vertical-align: middle;\n",
       "    }\n",
       "\n",
       "    .dataframe tbody tr th {\n",
       "        vertical-align: top;\n",
       "    }\n",
       "\n",
       "    .dataframe thead th {\n",
       "        text-align: right;\n",
       "    }\n",
       "</style>\n",
       "<table border=\"1\" class=\"dataframe\">\n",
       "  <thead>\n",
       "    <tr style=\"text-align: right;\">\n",
       "      <th></th>\n",
       "      <th>ad_id</th>\n",
       "      <th>zip_code</th>\n",
       "      <th>email</th>\n",
       "      <th>full_name</th>\n",
       "    </tr>\n",
       "  </thead>\n",
       "  <tbody>\n",
       "    <tr>\n",
       "      <th>0</th>\n",
       "      <td>23844015745200267</td>\n",
       "      <td>25704</td>\n",
       "      <td>bambiicurry@gmail.com</td>\n",
       "      <td>Bambi Curry</td>\n",
       "    </tr>\n",
       "    <tr>\n",
       "      <th>1</th>\n",
       "      <td>23844015745200267</td>\n",
       "      <td>45030</td>\n",
       "      <td>kelishaphillips@yahoo.com</td>\n",
       "      <td>Kelisha Phillips</td>\n",
       "    </tr>\n",
       "    <tr>\n",
       "      <th>2</th>\n",
       "      <td>23844015745200267</td>\n",
       "      <td>29172</td>\n",
       "      <td>feb111964@gmail.com</td>\n",
       "      <td>Karen Dover</td>\n",
       "    </tr>\n",
       "    <tr>\n",
       "      <th>3</th>\n",
       "      <td>23844015745200267</td>\n",
       "      <td>44135</td>\n",
       "      <td>soriajoshua79@gmail.com</td>\n",
       "      <td>Joshua Soria</td>\n",
       "    </tr>\n",
       "    <tr>\n",
       "      <th>4</th>\n",
       "      <td>23844015745180267</td>\n",
       "      <td>37381</td>\n",
       "      <td>livin4love6932@gmail.com</td>\n",
       "      <td>Nikki Roark Lewis</td>\n",
       "    </tr>\n",
       "  </tbody>\n",
       "</table>\n",
       "</div>"
      ],
      "text/plain": [
       "               ad_id  zip_code                      email          full_name\n",
       "0  23844015745200267     25704      bambiicurry@gmail.com        Bambi Curry\n",
       "1  23844015745200267     45030  kelishaphillips@yahoo.com   Kelisha Phillips\n",
       "2  23844015745200267     29172        feb111964@gmail.com        Karen Dover\n",
       "3  23844015745200267     44135    soriajoshua79@gmail.com       Joshua Soria\n",
       "4  23844015745180267     37381   livin4love6932@gmail.com  Nikki Roark Lewis"
      ]
     },
     "execution_count": 4,
     "metadata": {},
     "output_type": "execute_result"
    }
   ],
   "source": [
    "df=df.filter(['ad_id', 'zip_code', 'email', 'full_name'])\n",
    "df.head()"
   ]
  },
  {
   "cell_type": "markdown",
   "metadata": {},
   "source": [
    "We'll use this little lookup table to give our ads meaningful names."
   ]
  },
  {
   "cell_type": "code",
   "execution_count": 5,
   "metadata": {},
   "outputs": [],
   "source": [
    "ads = {23844015745170267:'playgrounds',\n",
    "       23844015745180267:'thrive',\n",
    "       23844015745200267:'catalogs',\n",
    "   }"
   ]
  },
  {
   "cell_type": "markdown",
   "metadata": {},
   "source": [
    "These two lines will a) associate an `ad_id` with a name and b) remove the `ad_id` column."
   ]
  },
  {
   "cell_type": "code",
   "execution_count": 6,
   "metadata": {},
   "outputs": [
    {
     "data": {
      "text/html": [
       "<div>\n",
       "<style scoped>\n",
       "    .dataframe tbody tr th:only-of-type {\n",
       "        vertical-align: middle;\n",
       "    }\n",
       "\n",
       "    .dataframe tbody tr th {\n",
       "        vertical-align: top;\n",
       "    }\n",
       "\n",
       "    .dataframe thead th {\n",
       "        text-align: right;\n",
       "    }\n",
       "</style>\n",
       "<table border=\"1\" class=\"dataframe\">\n",
       "  <thead>\n",
       "    <tr style=\"text-align: right;\">\n",
       "      <th></th>\n",
       "      <th>zip_code</th>\n",
       "      <th>email</th>\n",
       "      <th>full_name</th>\n",
       "      <th>ad_name</th>\n",
       "    </tr>\n",
       "  </thead>\n",
       "  <tbody>\n",
       "    <tr>\n",
       "      <th>0</th>\n",
       "      <td>25704</td>\n",
       "      <td>bambiicurry@gmail.com</td>\n",
       "      <td>Bambi Curry</td>\n",
       "      <td>catalogs</td>\n",
       "    </tr>\n",
       "    <tr>\n",
       "      <th>1</th>\n",
       "      <td>45030</td>\n",
       "      <td>kelishaphillips@yahoo.com</td>\n",
       "      <td>Kelisha Phillips</td>\n",
       "      <td>catalogs</td>\n",
       "    </tr>\n",
       "    <tr>\n",
       "      <th>2</th>\n",
       "      <td>29172</td>\n",
       "      <td>feb111964@gmail.com</td>\n",
       "      <td>Karen Dover</td>\n",
       "      <td>catalogs</td>\n",
       "    </tr>\n",
       "    <tr>\n",
       "      <th>3</th>\n",
       "      <td>44135</td>\n",
       "      <td>soriajoshua79@gmail.com</td>\n",
       "      <td>Joshua Soria</td>\n",
       "      <td>catalogs</td>\n",
       "    </tr>\n",
       "    <tr>\n",
       "      <th>4</th>\n",
       "      <td>37381</td>\n",
       "      <td>livin4love6932@gmail.com</td>\n",
       "      <td>Nikki Roark Lewis</td>\n",
       "      <td>thrive</td>\n",
       "    </tr>\n",
       "  </tbody>\n",
       "</table>\n",
       "</div>"
      ],
      "text/plain": [
       "   zip_code                      email          full_name   ad_name\n",
       "0     25704      bambiicurry@gmail.com        Bambi Curry  catalogs\n",
       "1     45030  kelishaphillips@yahoo.com   Kelisha Phillips  catalogs\n",
       "2     29172        feb111964@gmail.com        Karen Dover  catalogs\n",
       "3     44135    soriajoshua79@gmail.com       Joshua Soria  catalogs\n",
       "4     37381   livin4love6932@gmail.com  Nikki Roark Lewis    thrive"
      ]
     },
     "execution_count": 6,
     "metadata": {},
     "output_type": "execute_result"
    }
   ],
   "source": [
    "df['ad_name'] = df['ad_id'].map(ads)\n",
    "df=df.filter(['zip_code', 'email', 'full_name', 'ad_name'])\n",
    "df.head()"
   ]
  },
  {
   "cell_type": "markdown",
   "metadata": {},
   "source": [
    "The next bit just sets us up to use the uszipcode library. See docs for [help](https://uszipcode.readthedocs.io).<br><br>\n",
    "I'm showing the result of `search.by_zipcode(\"37415\")` so you can see what data is available."
   ]
  },
  {
   "cell_type": "code",
   "execution_count": 7,
   "metadata": {},
   "outputs": [],
   "source": [
    "search = SearchEngine(simple_zipcode=True)  # set simple_zipcode=False to use rich info database\n",
    "# zipcode = search.by_zipcode(\"37415\")\n",
    "# zipcode"
   ]
  },
  {
   "cell_type": "markdown",
   "metadata": {},
   "source": [
    "So first,  let's pull the post office city. <br><br>\n",
    "This command creates a new row called `post_office_city` then uses the value in `zip_code` do lookup the post office city. "
   ]
  },
  {
   "cell_type": "code",
   "execution_count": 8,
   "metadata": {},
   "outputs": [
    {
     "data": {
      "text/html": [
       "<div>\n",
       "<style scoped>\n",
       "    .dataframe tbody tr th:only-of-type {\n",
       "        vertical-align: middle;\n",
       "    }\n",
       "\n",
       "    .dataframe tbody tr th {\n",
       "        vertical-align: top;\n",
       "    }\n",
       "\n",
       "    .dataframe thead th {\n",
       "        text-align: right;\n",
       "    }\n",
       "</style>\n",
       "<table border=\"1\" class=\"dataframe\">\n",
       "  <thead>\n",
       "    <tr style=\"text-align: right;\">\n",
       "      <th></th>\n",
       "      <th>zip_code</th>\n",
       "      <th>email</th>\n",
       "      <th>full_name</th>\n",
       "      <th>ad_name</th>\n",
       "      <th>post_office_city</th>\n",
       "    </tr>\n",
       "  </thead>\n",
       "  <tbody>\n",
       "    <tr>\n",
       "      <th>0</th>\n",
       "      <td>25704</td>\n",
       "      <td>bambiicurry@gmail.com</td>\n",
       "      <td>Bambi Curry</td>\n",
       "      <td>catalogs</td>\n",
       "      <td>Huntington, WV</td>\n",
       "    </tr>\n",
       "    <tr>\n",
       "      <th>1</th>\n",
       "      <td>45030</td>\n",
       "      <td>kelishaphillips@yahoo.com</td>\n",
       "      <td>Kelisha Phillips</td>\n",
       "      <td>catalogs</td>\n",
       "      <td>Harrison, OH</td>\n",
       "    </tr>\n",
       "    <tr>\n",
       "      <th>2</th>\n",
       "      <td>29172</td>\n",
       "      <td>feb111964@gmail.com</td>\n",
       "      <td>Karen Dover</td>\n",
       "      <td>catalogs</td>\n",
       "      <td>West Columbia, SC</td>\n",
       "    </tr>\n",
       "    <tr>\n",
       "      <th>3</th>\n",
       "      <td>44135</td>\n",
       "      <td>soriajoshua79@gmail.com</td>\n",
       "      <td>Joshua Soria</td>\n",
       "      <td>catalogs</td>\n",
       "      <td>Cleveland, OH</td>\n",
       "    </tr>\n",
       "    <tr>\n",
       "      <th>4</th>\n",
       "      <td>37381</td>\n",
       "      <td>livin4love6932@gmail.com</td>\n",
       "      <td>Nikki Roark Lewis</td>\n",
       "      <td>thrive</td>\n",
       "      <td>Spring City, TN</td>\n",
       "    </tr>\n",
       "  </tbody>\n",
       "</table>\n",
       "</div>"
      ],
      "text/plain": [
       "   zip_code                      email          full_name   ad_name  \\\n",
       "0     25704      bambiicurry@gmail.com        Bambi Curry  catalogs   \n",
       "1     45030  kelishaphillips@yahoo.com   Kelisha Phillips  catalogs   \n",
       "2     29172        feb111964@gmail.com        Karen Dover  catalogs   \n",
       "3     44135    soriajoshua79@gmail.com       Joshua Soria  catalogs   \n",
       "4     37381   livin4love6932@gmail.com  Nikki Roark Lewis    thrive   \n",
       "\n",
       "    post_office_city  \n",
       "0     Huntington, WV  \n",
       "1       Harrison, OH  \n",
       "2  West Columbia, SC  \n",
       "3      Cleveland, OH  \n",
       "4    Spring City, TN  "
      ]
     },
     "execution_count": 8,
     "metadata": {},
     "output_type": "execute_result"
    }
   ],
   "source": [
    "df['post_office_city'] = df['zip_code'].apply(lambda x: search.by_zipcode(x).post_office_city)\n",
    "df.head()"
   ]
  },
  {
   "cell_type": "markdown",
   "metadata": {},
   "source": [
    "If you want more, just add 'em in."
   ]
  },
  {
   "cell_type": "code",
   "execution_count": 9,
   "metadata": {},
   "outputs": [
    {
     "data": {
      "text/html": [
       "<div>\n",
       "<style scoped>\n",
       "    .dataframe tbody tr th:only-of-type {\n",
       "        vertical-align: middle;\n",
       "    }\n",
       "\n",
       "    .dataframe tbody tr th {\n",
       "        vertical-align: top;\n",
       "    }\n",
       "\n",
       "    .dataframe thead th {\n",
       "        text-align: right;\n",
       "    }\n",
       "</style>\n",
       "<table border=\"1\" class=\"dataframe\">\n",
       "  <thead>\n",
       "    <tr style=\"text-align: right;\">\n",
       "      <th></th>\n",
       "      <th>zip_code</th>\n",
       "      <th>email</th>\n",
       "      <th>full_name</th>\n",
       "      <th>ad_name</th>\n",
       "      <th>post_office_city</th>\n",
       "      <th>city</th>\n",
       "      <th>state</th>\n",
       "    </tr>\n",
       "  </thead>\n",
       "  <tbody>\n",
       "    <tr>\n",
       "      <th>0</th>\n",
       "      <td>25704</td>\n",
       "      <td>bambiicurry@gmail.com</td>\n",
       "      <td>Bambi Curry</td>\n",
       "      <td>catalogs</td>\n",
       "      <td>Huntington, WV</td>\n",
       "      <td>Huntington</td>\n",
       "      <td>WV</td>\n",
       "    </tr>\n",
       "    <tr>\n",
       "      <th>1</th>\n",
       "      <td>45030</td>\n",
       "      <td>kelishaphillips@yahoo.com</td>\n",
       "      <td>Kelisha Phillips</td>\n",
       "      <td>catalogs</td>\n",
       "      <td>Harrison, OH</td>\n",
       "      <td>Harrison</td>\n",
       "      <td>OH</td>\n",
       "    </tr>\n",
       "    <tr>\n",
       "      <th>2</th>\n",
       "      <td>29172</td>\n",
       "      <td>feb111964@gmail.com</td>\n",
       "      <td>Karen Dover</td>\n",
       "      <td>catalogs</td>\n",
       "      <td>West Columbia, SC</td>\n",
       "      <td>West Columbia</td>\n",
       "      <td>SC</td>\n",
       "    </tr>\n",
       "    <tr>\n",
       "      <th>3</th>\n",
       "      <td>44135</td>\n",
       "      <td>soriajoshua79@gmail.com</td>\n",
       "      <td>Joshua Soria</td>\n",
       "      <td>catalogs</td>\n",
       "      <td>Cleveland, OH</td>\n",
       "      <td>Cleveland</td>\n",
       "      <td>OH</td>\n",
       "    </tr>\n",
       "    <tr>\n",
       "      <th>4</th>\n",
       "      <td>37381</td>\n",
       "      <td>livin4love6932@gmail.com</td>\n",
       "      <td>Nikki Roark Lewis</td>\n",
       "      <td>thrive</td>\n",
       "      <td>Spring City, TN</td>\n",
       "      <td>Spring City</td>\n",
       "      <td>TN</td>\n",
       "    </tr>\n",
       "  </tbody>\n",
       "</table>\n",
       "</div>"
      ],
      "text/plain": [
       "   zip_code                      email          full_name   ad_name  \\\n",
       "0     25704      bambiicurry@gmail.com        Bambi Curry  catalogs   \n",
       "1     45030  kelishaphillips@yahoo.com   Kelisha Phillips  catalogs   \n",
       "2     29172        feb111964@gmail.com        Karen Dover  catalogs   \n",
       "3     44135    soriajoshua79@gmail.com       Joshua Soria  catalogs   \n",
       "4     37381   livin4love6932@gmail.com  Nikki Roark Lewis    thrive   \n",
       "\n",
       "    post_office_city           city state  \n",
       "0     Huntington, WV     Huntington    WV  \n",
       "1       Harrison, OH       Harrison    OH  \n",
       "2  West Columbia, SC  West Columbia    SC  \n",
       "3      Cleveland, OH      Cleveland    OH  \n",
       "4    Spring City, TN    Spring City    TN  "
      ]
     },
     "execution_count": 9,
     "metadata": {},
     "output_type": "execute_result"
    }
   ],
   "source": [
    "df['city'] = df['zip_code'].apply(lambda x: search.by_zipcode(x).major_city)\n",
    "df['state'] = df['zip_code'].apply(lambda x: search.by_zipcode(x).state)\n",
    "# df['county'] = df['zip_code'].apply(lambda x: search.by_zipcode(x).county)\n",
    "\n",
    "df.head()"
   ]
  },
  {
   "cell_type": "markdown",
   "metadata": {},
   "source": [
    "### Capitalization corrections"
   ]
  },
  {
   "cell_type": "markdown",
   "metadata": {},
   "source": [
    "You might also want to run over the names to make sure the caps are set the way you want them. This command uses `title` whcih returns a title cased version of the string, which means the first character of the each word is capitalized."
   ]
  },
  {
   "cell_type": "code",
   "execution_count": 10,
   "metadata": {
    "scrolled": true
   },
   "outputs": [
    {
     "data": {
      "text/html": [
       "<div>\n",
       "<style scoped>\n",
       "    .dataframe tbody tr th:only-of-type {\n",
       "        vertical-align: middle;\n",
       "    }\n",
       "\n",
       "    .dataframe tbody tr th {\n",
       "        vertical-align: top;\n",
       "    }\n",
       "\n",
       "    .dataframe thead th {\n",
       "        text-align: right;\n",
       "    }\n",
       "</style>\n",
       "<table border=\"1\" class=\"dataframe\">\n",
       "  <thead>\n",
       "    <tr style=\"text-align: right;\">\n",
       "      <th></th>\n",
       "      <th>zip_code</th>\n",
       "      <th>email</th>\n",
       "      <th>full_name</th>\n",
       "      <th>ad_name</th>\n",
       "      <th>post_office_city</th>\n",
       "      <th>city</th>\n",
       "      <th>state</th>\n",
       "    </tr>\n",
       "  </thead>\n",
       "  <tbody>\n",
       "    <tr>\n",
       "      <th>0</th>\n",
       "      <td>25704</td>\n",
       "      <td>bambiicurry@gmail.com</td>\n",
       "      <td>Bambi Curry</td>\n",
       "      <td>catalogs</td>\n",
       "      <td>Huntington, WV</td>\n",
       "      <td>Huntington</td>\n",
       "      <td>WV</td>\n",
       "    </tr>\n",
       "    <tr>\n",
       "      <th>1</th>\n",
       "      <td>45030</td>\n",
       "      <td>kelishaphillips@yahoo.com</td>\n",
       "      <td>Kelisha Phillips</td>\n",
       "      <td>catalogs</td>\n",
       "      <td>Harrison, OH</td>\n",
       "      <td>Harrison</td>\n",
       "      <td>OH</td>\n",
       "    </tr>\n",
       "    <tr>\n",
       "      <th>2</th>\n",
       "      <td>29172</td>\n",
       "      <td>feb111964@gmail.com</td>\n",
       "      <td>Karen Dover</td>\n",
       "      <td>catalogs</td>\n",
       "      <td>West Columbia, SC</td>\n",
       "      <td>West Columbia</td>\n",
       "      <td>SC</td>\n",
       "    </tr>\n",
       "    <tr>\n",
       "      <th>3</th>\n",
       "      <td>44135</td>\n",
       "      <td>soriajoshua79@gmail.com</td>\n",
       "      <td>Joshua Soria</td>\n",
       "      <td>catalogs</td>\n",
       "      <td>Cleveland, OH</td>\n",
       "      <td>Cleveland</td>\n",
       "      <td>OH</td>\n",
       "    </tr>\n",
       "    <tr>\n",
       "      <th>4</th>\n",
       "      <td>37381</td>\n",
       "      <td>livin4love6932@gmail.com</td>\n",
       "      <td>Nikki Roark Lewis</td>\n",
       "      <td>thrive</td>\n",
       "      <td>Spring City, TN</td>\n",
       "      <td>Spring City</td>\n",
       "      <td>TN</td>\n",
       "    </tr>\n",
       "  </tbody>\n",
       "</table>\n",
       "</div>"
      ],
      "text/plain": [
       "   zip_code                      email          full_name   ad_name  \\\n",
       "0     25704      bambiicurry@gmail.com        Bambi Curry  catalogs   \n",
       "1     45030  kelishaphillips@yahoo.com   Kelisha Phillips  catalogs   \n",
       "2     29172        feb111964@gmail.com        Karen Dover  catalogs   \n",
       "3     44135    soriajoshua79@gmail.com       Joshua Soria  catalogs   \n",
       "4     37381   livin4love6932@gmail.com  Nikki Roark Lewis    thrive   \n",
       "\n",
       "    post_office_city           city state  \n",
       "0     Huntington, WV     Huntington    WV  \n",
       "1       Harrison, OH       Harrison    OH  \n",
       "2  West Columbia, SC  West Columbia    SC  \n",
       "3      Cleveland, OH      Cleveland    OH  \n",
       "4    Spring City, TN    Spring City    TN  "
      ]
     },
     "execution_count": 10,
     "metadata": {},
     "output_type": "execute_result"
    }
   ],
   "source": [
    "df.full_name.str.title()\n",
    "df.head()"
   ]
  },
  {
   "cell_type": "markdown",
   "metadata": {},
   "source": [
    "### Column ordering\n",
    "\n",
    "And maybe you want the columns reordered."
   ]
  },
  {
   "cell_type": "code",
   "execution_count": 11,
   "metadata": {
    "scrolled": false
   },
   "outputs": [
    {
     "data": {
      "text/html": [
       "<div>\n",
       "<style scoped>\n",
       "    .dataframe tbody tr th:only-of-type {\n",
       "        vertical-align: middle;\n",
       "    }\n",
       "\n",
       "    .dataframe tbody tr th {\n",
       "        vertical-align: top;\n",
       "    }\n",
       "\n",
       "    .dataframe thead th {\n",
       "        text-align: right;\n",
       "    }\n",
       "</style>\n",
       "<table border=\"1\" class=\"dataframe\">\n",
       "  <thead>\n",
       "    <tr style=\"text-align: right;\">\n",
       "      <th></th>\n",
       "      <th>full_name</th>\n",
       "      <th>email</th>\n",
       "      <th>post_office_city</th>\n",
       "      <th>city</th>\n",
       "      <th>state</th>\n",
       "      <th>zip_code</th>\n",
       "      <th>ad_name</th>\n",
       "    </tr>\n",
       "  </thead>\n",
       "  <tbody>\n",
       "    <tr>\n",
       "      <th>0</th>\n",
       "      <td>Bambi Curry</td>\n",
       "      <td>bambiicurry@gmail.com</td>\n",
       "      <td>Huntington, WV</td>\n",
       "      <td>Huntington</td>\n",
       "      <td>WV</td>\n",
       "      <td>25704</td>\n",
       "      <td>catalogs</td>\n",
       "    </tr>\n",
       "    <tr>\n",
       "      <th>1</th>\n",
       "      <td>Kelisha Phillips</td>\n",
       "      <td>kelishaphillips@yahoo.com</td>\n",
       "      <td>Harrison, OH</td>\n",
       "      <td>Harrison</td>\n",
       "      <td>OH</td>\n",
       "      <td>45030</td>\n",
       "      <td>catalogs</td>\n",
       "    </tr>\n",
       "    <tr>\n",
       "      <th>2</th>\n",
       "      <td>Karen Dover</td>\n",
       "      <td>feb111964@gmail.com</td>\n",
       "      <td>West Columbia, SC</td>\n",
       "      <td>West Columbia</td>\n",
       "      <td>SC</td>\n",
       "      <td>29172</td>\n",
       "      <td>catalogs</td>\n",
       "    </tr>\n",
       "    <tr>\n",
       "      <th>3</th>\n",
       "      <td>Joshua Soria</td>\n",
       "      <td>soriajoshua79@gmail.com</td>\n",
       "      <td>Cleveland, OH</td>\n",
       "      <td>Cleveland</td>\n",
       "      <td>OH</td>\n",
       "      <td>44135</td>\n",
       "      <td>catalogs</td>\n",
       "    </tr>\n",
       "    <tr>\n",
       "      <th>4</th>\n",
       "      <td>Nikki Roark Lewis</td>\n",
       "      <td>livin4love6932@gmail.com</td>\n",
       "      <td>Spring City, TN</td>\n",
       "      <td>Spring City</td>\n",
       "      <td>TN</td>\n",
       "      <td>37381</td>\n",
       "      <td>thrive</td>\n",
       "    </tr>\n",
       "  </tbody>\n",
       "</table>\n",
       "</div>"
      ],
      "text/plain": [
       "           full_name                      email   post_office_city  \\\n",
       "0        Bambi Curry      bambiicurry@gmail.com     Huntington, WV   \n",
       "1   Kelisha Phillips  kelishaphillips@yahoo.com       Harrison, OH   \n",
       "2        Karen Dover        feb111964@gmail.com  West Columbia, SC   \n",
       "3       Joshua Soria    soriajoshua79@gmail.com      Cleveland, OH   \n",
       "4  Nikki Roark Lewis   livin4love6932@gmail.com    Spring City, TN   \n",
       "\n",
       "            city state  zip_code   ad_name  \n",
       "0     Huntington    WV     25704  catalogs  \n",
       "1       Harrison    OH     45030  catalogs  \n",
       "2  West Columbia    SC     29172  catalogs  \n",
       "3      Cleveland    OH     44135  catalogs  \n",
       "4    Spring City    TN     37381    thrive  "
      ]
     },
     "execution_count": 11,
     "metadata": {},
     "output_type": "execute_result"
    }
   ],
   "source": [
    "df = df[['full_name','email','post_office_city','city','state', 'zip_code', 'ad_name']]\n",
    "df.head()"
   ]
  },
  {
   "cell_type": "markdown",
   "metadata": {},
   "source": [
    "### When you're done, export it!"
   ]
  },
  {
   "cell_type": "markdown",
   "metadata": {},
   "source": [
    "Finally, let's export it out as a new .csv file."
   ]
  },
  {
   "cell_type": "code",
   "execution_count": 12,
   "metadata": {},
   "outputs": [],
   "source": [
    "df.to_csv('leads.csv', index=False)"
   ]
  },
  {
   "cell_type": "code",
   "execution_count": 13,
   "metadata": {
    "scrolled": true
   },
   "outputs": [
    {
     "data": {
      "text/plain": [
       "catalogs       43\n",
       "thrive          6\n",
       "playgrounds     3\n",
       "Name: ad_name, dtype: int64"
      ]
     },
     "execution_count": 13,
     "metadata": {},
     "output_type": "execute_result"
    }
   ],
   "source": [
    "df['ad_name'].value_counts()"
   ]
  },
  {
   "cell_type": "markdown",
   "metadata": {},
   "source": [
    "# Testing"
   ]
  },
  {
   "cell_type": "code",
   "execution_count": 14,
   "metadata": {},
   "outputs": [],
   "source": [
    "# %matplotlib inline\n",
    "\n",
    "# import matplotlib.pyplot as plt\n",
    "# import seaborn as sns\n",
    "\n",
    "# ad_counts  = df['ad_name'].value_counts()\n",
    "# plt.figure(figsize=(10,5))\n",
    "# sns.barplot(ad_counts.index, ad_counts.values, alpha=0.8)\n",
    "# plt.title('Ad results')\n",
    "# plt.ylabel('Number of Occurrences', fontsize=12)\n",
    "# plt.xlabel('Ad Name', fontsize=12)\n",
    "# plt.show()"
   ]
  },
  {
   "cell_type": "code",
   "execution_count": null,
   "metadata": {},
   "outputs": [],
   "source": []
  }
 ],
 "metadata": {
  "kernelspec": {
   "display_name": "Python 3",
   "language": "python",
   "name": "python3"
  },
  "language_info": {
   "codemirror_mode": {
    "name": "ipython",
    "version": 3
   },
   "file_extension": ".py",
   "mimetype": "text/x-python",
   "name": "python",
   "nbconvert_exporter": "python",
   "pygments_lexer": "ipython3",
   "version": "3.6.3"
  }
 },
 "nbformat": 4,
 "nbformat_minor": 4
}
